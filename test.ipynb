{
 "cells": [
  {
   "cell_type": "code",
   "execution_count": 1,
   "metadata": {},
   "outputs": [],
   "source": [
    "import pandas as pd"
   ]
  },
  {
   "cell_type": "code",
   "execution_count": 2,
   "metadata": {},
   "outputs": [],
   "source": [
    "comments = pd.read_csv('./dataset/ai_challenger_sentiment_analysis_trainingset_20180816/sentiment_analysis_trainingset.csv')"
   ]
  },
  {
   "cell_type": "code",
   "execution_count": 3,
   "metadata": {},
   "outputs": [
    {
     "data": {
      "text/html": [
       "<div>\n",
       "<style scoped>\n",
       "    .dataframe tbody tr th:only-of-type {\n",
       "        vertical-align: middle;\n",
       "    }\n",
       "\n",
       "    .dataframe tbody tr th {\n",
       "        vertical-align: top;\n",
       "    }\n",
       "\n",
       "    .dataframe thead th {\n",
       "        text-align: right;\n",
       "    }\n",
       "</style>\n",
       "<table border=\"1\" class=\"dataframe\">\n",
       "  <thead>\n",
       "    <tr style=\"text-align: right;\">\n",
       "      <th></th>\n",
       "      <th>id</th>\n",
       "      <th>content</th>\n",
       "      <th>location_traffic_convenience</th>\n",
       "      <th>location_distance_from_business_district</th>\n",
       "      <th>location_easy_to_find</th>\n",
       "      <th>service_wait_time</th>\n",
       "      <th>service_waiters_attitude</th>\n",
       "      <th>service_parking_convenience</th>\n",
       "      <th>service_serving_speed</th>\n",
       "      <th>price_level</th>\n",
       "      <th>...</th>\n",
       "      <th>environment_decoration</th>\n",
       "      <th>environment_noise</th>\n",
       "      <th>environment_space</th>\n",
       "      <th>environment_cleaness</th>\n",
       "      <th>dish_portion</th>\n",
       "      <th>dish_taste</th>\n",
       "      <th>dish_look</th>\n",
       "      <th>dish_recommendation</th>\n",
       "      <th>others_overall_experience</th>\n",
       "      <th>others_willing_to_consume_again</th>\n",
       "    </tr>\n",
       "  </thead>\n",
       "  <tbody>\n",
       "    <tr>\n",
       "      <th>0</th>\n",
       "      <td>0</td>\n",
       "      <td>\"吼吼吼，萌死人的棒棒糖，中了大众点评的霸王餐，太可爱了。一直就好奇这个棒棒糖是怎么个东西，...</td>\n",
       "      <td>-2</td>\n",
       "      <td>-2</td>\n",
       "      <td>-2</td>\n",
       "      <td>-2</td>\n",
       "      <td>1</td>\n",
       "      <td>-2</td>\n",
       "      <td>-2</td>\n",
       "      <td>-2</td>\n",
       "      <td>...</td>\n",
       "      <td>-2</td>\n",
       "      <td>-2</td>\n",
       "      <td>-2</td>\n",
       "      <td>-2</td>\n",
       "      <td>-2</td>\n",
       "      <td>-2</td>\n",
       "      <td>1</td>\n",
       "      <td>-2</td>\n",
       "      <td>1</td>\n",
       "      <td>-2</td>\n",
       "    </tr>\n",
       "    <tr>\n",
       "      <th>1</th>\n",
       "      <td>1</td>\n",
       "      <td>\"第三次参加大众点评网霸王餐的活动。这家店给人整体感觉一般。首先环境只能算中等，其次霸王餐提...</td>\n",
       "      <td>-2</td>\n",
       "      <td>-2</td>\n",
       "      <td>-2</td>\n",
       "      <td>-2</td>\n",
       "      <td>-2</td>\n",
       "      <td>-2</td>\n",
       "      <td>-2</td>\n",
       "      <td>0</td>\n",
       "      <td>...</td>\n",
       "      <td>0</td>\n",
       "      <td>0</td>\n",
       "      <td>0</td>\n",
       "      <td>0</td>\n",
       "      <td>1</td>\n",
       "      <td>-2</td>\n",
       "      <td>-2</td>\n",
       "      <td>-2</td>\n",
       "      <td>1</td>\n",
       "      <td>-2</td>\n",
       "    </tr>\n",
       "    <tr>\n",
       "      <th>2</th>\n",
       "      <td>2</td>\n",
       "      <td>\"4人同行 点了10个小吃\\n榴莲酥 榴莲味道不足 松软 奶味浓\\n虾饺 好吃 两颗大虾仁\\...</td>\n",
       "      <td>-2</td>\n",
       "      <td>-2</td>\n",
       "      <td>-2</td>\n",
       "      <td>-2</td>\n",
       "      <td>0</td>\n",
       "      <td>-2</td>\n",
       "      <td>1</td>\n",
       "      <td>0</td>\n",
       "      <td>...</td>\n",
       "      <td>-2</td>\n",
       "      <td>-2</td>\n",
       "      <td>1</td>\n",
       "      <td>-2</td>\n",
       "      <td>0</td>\n",
       "      <td>1</td>\n",
       "      <td>-2</td>\n",
       "      <td>-2</td>\n",
       "      <td>0</td>\n",
       "      <td>-2</td>\n",
       "    </tr>\n",
       "    <tr>\n",
       "      <th>3</th>\n",
       "      <td>3</td>\n",
       "      <td>\"之前评价了莫名其妙被删 果断继续差评！ 换了菜单 价格更低 开始砸牌子 但套餐还是有150...</td>\n",
       "      <td>-2</td>\n",
       "      <td>-2</td>\n",
       "      <td>-2</td>\n",
       "      <td>-2</td>\n",
       "      <td>-2</td>\n",
       "      <td>-2</td>\n",
       "      <td>-2</td>\n",
       "      <td>0</td>\n",
       "      <td>...</td>\n",
       "      <td>-2</td>\n",
       "      <td>-2</td>\n",
       "      <td>-2</td>\n",
       "      <td>-2</td>\n",
       "      <td>-2</td>\n",
       "      <td>-1</td>\n",
       "      <td>-2</td>\n",
       "      <td>-2</td>\n",
       "      <td>-1</td>\n",
       "      <td>-1</td>\n",
       "    </tr>\n",
       "    <tr>\n",
       "      <th>4</th>\n",
       "      <td>4</td>\n",
       "      <td>\"出乎意料地惊艳，椰子鸡清热降火，美容养颜，大大满足了爱吃火锅怕上火星人。椰子冻是帅帅的老板...</td>\n",
       "      <td>-2</td>\n",
       "      <td>-2</td>\n",
       "      <td>-2</td>\n",
       "      <td>-2</td>\n",
       "      <td>-2</td>\n",
       "      <td>-2</td>\n",
       "      <td>-2</td>\n",
       "      <td>-2</td>\n",
       "      <td>...</td>\n",
       "      <td>-2</td>\n",
       "      <td>-2</td>\n",
       "      <td>-2</td>\n",
       "      <td>-2</td>\n",
       "      <td>-2</td>\n",
       "      <td>1</td>\n",
       "      <td>1</td>\n",
       "      <td>-2</td>\n",
       "      <td>1</td>\n",
       "      <td>-2</td>\n",
       "    </tr>\n",
       "  </tbody>\n",
       "</table>\n",
       "<p>5 rows × 22 columns</p>\n",
       "</div>"
      ],
      "text/plain": [
       "   id                                            content  \\\n",
       "0   0  \"吼吼吼，萌死人的棒棒糖，中了大众点评的霸王餐，太可爱了。一直就好奇这个棒棒糖是怎么个东西，...   \n",
       "1   1  \"第三次参加大众点评网霸王餐的活动。这家店给人整体感觉一般。首先环境只能算中等，其次霸王餐提...   \n",
       "2   2  \"4人同行 点了10个小吃\\n榴莲酥 榴莲味道不足 松软 奶味浓\\n虾饺 好吃 两颗大虾仁\\...   \n",
       "3   3  \"之前评价了莫名其妙被删 果断继续差评！ 换了菜单 价格更低 开始砸牌子 但套餐还是有150...   \n",
       "4   4  \"出乎意料地惊艳，椰子鸡清热降火，美容养颜，大大满足了爱吃火锅怕上火星人。椰子冻是帅帅的老板...   \n",
       "\n",
       "   location_traffic_convenience  location_distance_from_business_district  \\\n",
       "0                            -2                                        -2   \n",
       "1                            -2                                        -2   \n",
       "2                            -2                                        -2   \n",
       "3                            -2                                        -2   \n",
       "4                            -2                                        -2   \n",
       "\n",
       "   location_easy_to_find  service_wait_time  service_waiters_attitude  \\\n",
       "0                     -2                 -2                         1   \n",
       "1                     -2                 -2                        -2   \n",
       "2                     -2                 -2                         0   \n",
       "3                     -2                 -2                        -2   \n",
       "4                     -2                 -2                        -2   \n",
       "\n",
       "   service_parking_convenience  service_serving_speed  price_level  ...  \\\n",
       "0                           -2                     -2           -2  ...   \n",
       "1                           -2                     -2            0  ...   \n",
       "2                           -2                      1            0  ...   \n",
       "3                           -2                     -2            0  ...   \n",
       "4                           -2                     -2           -2  ...   \n",
       "\n",
       "   environment_decoration  environment_noise  environment_space  \\\n",
       "0                      -2                 -2                 -2   \n",
       "1                       0                  0                  0   \n",
       "2                      -2                 -2                  1   \n",
       "3                      -2                 -2                 -2   \n",
       "4                      -2                 -2                 -2   \n",
       "\n",
       "   environment_cleaness  dish_portion  dish_taste  dish_look  \\\n",
       "0                    -2            -2          -2          1   \n",
       "1                     0             1          -2         -2   \n",
       "2                    -2             0           1         -2   \n",
       "3                    -2            -2          -1         -2   \n",
       "4                    -2            -2           1          1   \n",
       "\n",
       "   dish_recommendation  others_overall_experience  \\\n",
       "0                   -2                          1   \n",
       "1                   -2                          1   \n",
       "2                   -2                          0   \n",
       "3                   -2                         -1   \n",
       "4                   -2                          1   \n",
       "\n",
       "   others_willing_to_consume_again  \n",
       "0                               -2  \n",
       "1                               -2  \n",
       "2                               -2  \n",
       "3                               -1  \n",
       "4                               -2  \n",
       "\n",
       "[5 rows x 22 columns]"
      ]
     },
     "execution_count": 3,
     "metadata": {},
     "output_type": "execute_result"
    }
   ],
   "source": [
    "comments.head()"
   ]
  },
  {
   "cell_type": "code",
   "execution_count": 4,
   "metadata": {},
   "outputs": [
    {
     "name": "stdout",
     "output_type": "stream",
     "text": [
      "<class 'pandas.core.frame.DataFrame'>\n",
      "RangeIndex: 105000 entries, 0 to 104999\n",
      "Data columns (total 22 columns):\n",
      "id                                          105000 non-null int64\n",
      "content                                     105000 non-null object\n",
      "location_traffic_convenience                105000 non-null int64\n",
      "location_distance_from_business_district    105000 non-null int64\n",
      "location_easy_to_find                       105000 non-null int64\n",
      "service_wait_time                           105000 non-null int64\n",
      "service_waiters_attitude                    105000 non-null int64\n",
      "service_parking_convenience                 105000 non-null int64\n",
      "service_serving_speed                       105000 non-null int64\n",
      "price_level                                 105000 non-null int64\n",
      "price_cost_effective                        105000 non-null int64\n",
      "price_discount                              105000 non-null int64\n",
      "environment_decoration                      105000 non-null int64\n",
      "environment_noise                           105000 non-null int64\n",
      "environment_space                           105000 non-null int64\n",
      "environment_cleaness                        105000 non-null int64\n",
      "dish_portion                                105000 non-null int64\n",
      "dish_taste                                  105000 non-null int64\n",
      "dish_look                                   105000 non-null int64\n",
      "dish_recommendation                         105000 non-null int64\n",
      "others_overall_experience                   105000 non-null int64\n",
      "others_willing_to_consume_again             105000 non-null int64\n",
      "dtypes: int64(21), object(1)\n",
      "memory usage: 17.6+ MB\n"
     ]
    }
   ],
   "source": [
    "comments.info()"
   ]
  },
  {
   "cell_type": "code",
   "execution_count": 7,
   "metadata": {},
   "outputs": [
    {
     "data": {
      "text/plain": [
       "{-2, -1, 0, 1}"
      ]
     },
     "execution_count": 7,
     "metadata": {},
     "output_type": "execute_result"
    }
   ],
   "source": [
    "set(comments['location_traffic_convenience'])"
   ]
  },
  {
   "cell_type": "code",
   "execution_count": 9,
   "metadata": {},
   "outputs": [
    {
     "data": {
      "text/plain": [
       "'\"吼吼吼，萌死人的棒棒糖，中了大众点评的霸王餐，太可爱了。一直就好奇这个棒棒糖是怎么个东西，大众点评给了我这个土老冒一个见识的机会。看介绍棒棒糖是用德国糖做的，不会很甜，中间的照片是糯米的，能食用，真是太高端大气上档次了，还可以买蝴蝶结扎口，送人可以买礼盒。我是先打的卖家电话，加了微信，给卖家传的照片。等了几天，卖家就告诉我可以取货了，去大官屯那取的。虽然连卖家的面都没见到，但是还是谢谢卖家送我这么可爱的东西，太喜欢了，这哪舍得吃啊。\"'"
      ]
     },
     "execution_count": 9,
     "metadata": {},
     "output_type": "execute_result"
    }
   ],
   "source": [
    "comments.iloc[0]['content']"
   ]
  },
  {
   "cell_type": "code",
   "execution_count": 14,
   "metadata": {},
   "outputs": [
    {
     "name": "stdout",
     "output_type": "stream",
     "text": [
      "\"店家在新天地小区入口的街边，logo非常醒目。驾车和附近居民就餐很方便，坐公交特意来着吃饭，交通有点不便。餐厅在二楼环境敞亮、干净。冷荤操作间是通透的，客人可以透过玻璃窗看到工作间里情况。服务上稍有欠缺，进入餐厅后没有服务员招呼一声，得自己找座位，不知这种情况是特例还是常态，嗯，我把它理解为生意好人手不够，忙不过来吧。\n",
      "菜品：\n",
      "大拌菜：不论走到哪儿，去各种档次的餐厅必点大拌菜，一是吃着爽口，蔬菜的种类多。二是可以解肉菜的油腻，营养均衡。三是衡量食品卫生最直接的方式，因为本人肠胃不好，只要吃了不干净的冷菜马上跑肚子（方式很残酷结果直接😛）。事实证明这里食材干净、卫生、新鲜。\n",
      "烤鸭：点的精品烤鸭，首先价格就比较接地气，138元的价位在紫什么园的地方只能吃普通烤鸭，在这里可是精品撒！重点是品质、口味一点都不输老字号，配菜盘是两份，还有一份蜜瓜和砂糖的配菜盘，鸭饼有特色，两种口味一种蔬菜汁另一种是原味，饼薄、软、韧两种口味都好吃，烤鸭分三个部位，第一道上的是鸭皮，外皮烤的酥脆，入口即化一点都不腻。第二道上的是鸭腿和鸭身肉，卷鸭饼最好吃。第三道是鸭胸肉，纯瘦肉，直接吃就很好。片完的鸭架上还有很都多肉呐。值得特别推荐哈！\n",
      "农家小炒肉：酱油似乎是放多了，菜色有些发黑卖相不太好，不过味道还好。\n",
      "虽然是饺子馆，观察了一下，似乎没有为了吃饺子而吃饺子的，烤鸭和家常菜是主流。结账时，还可以用大众点评的优惠买单，赶脚很贴心噻😀\"\n",
      "\"六一儿童节带着女儿过来刷了一顿！好久没有吃了所以想到这里来吃！因为交通方便便于逛街！正好吃好消化下！它家的鳌虾真的是可以的一开始误以为是小青龙结果认真一看原来是鳌虾😀！小青龙每人半只！甜虾真的不错口感好没有任何筋什么的小孩子吃起来方便！牡丹虾也很大！三文鱼叫了是鱼腩这一块的位置太嫩了！所有的刺身吃在嘴里是黏黏的滑滑的嫩嫩的特别好入口！就是血蟹脚上来最慢了不知道是不是货源少！不过最后点单还是叫了量十足！叫了三十根蟹脚吃得女儿在边上直叫饱了😂我们把所有的都叫了一边！薄牛舌味道好很嫩的！厚牛舌就是比较油腻吃一块就好！吃到最后来点甜品和水果色拉还是不错的！可以解腻！\"\n",
      "\"川十味世纪都会店我是第一次来，之前水游城的店我是经常光顾，我可以骄傲的说：我是川粉😙。\n",
      "位置---交通便利，营口道地铁站出口就是世纪都会,5楼电梯直达。\n",
      "环境---布置的小清新，操作间是透明的，可以看到厨师们辛勤的劳作，我们可以安心食用菜品。\n",
      "菜品---麻辣猪蹄面，我的最爱，也是我强力要推荐给亲们的，猪蹄软烂，油而不腻，面条筋斗，汤汁鲜美。四川甜水面，甜中带辣，很有特色。双色蚕豆糕，也是很有创意的小吃，原材料是蚕豆，绿色部分是新蚕豆，白色部分是老蚕豆加工而成的，值得一品。夫妻肺片，绝对比某某家的要好，肺片有嚼劲，几乎都是肉肉，很实在，爱吃辣的人就可以过过辣瘾了😀\n",
      "服务---服务人员热情招呼来客，及时清理台面，甚是周到。\n",
      "我是小吃控，超级喜欢川十味，5颗星👍\"\n",
      "\"首先，一定要感谢大众点评再次抽中我！虽然时隔几个月了，但是这次的中奖实在让我太难忘了。这次抽中的是二食.天鲜荟，碳火烤鱼二人餐。那，接下来我开始点评咯。😀   \n",
      " [ 环境 ] 这家店很好找，就在我母校广州六中，鹭江地铁站旁边。二楼上去后，里面挺大的，而且装修很有风格特色，充满怀旧与复古的情调。我坐的那个大厅里，墙上就是一幅大大的卡通鱼壁画。\n",
      " [ 服务 ] 服务员非常好客，完全不会因为你是霸王餐的而怠慢，相反却很友善热情地服务，这个要给个赞！在没有上菜之前，服务员会先烧热锅消毒餐具，这非常棒！\n",
      " [ 出品 ] 最重要的主角出场了。食物隆重登场。今天的主角，肯定是这条青椒鮰鱼。之前去过探炉探鱼，鮰鱼是挺贵的，大众点评和商家这次给力！行过路过，点进去，接着点帮ta集居然真的给力。鮰鱼新鲜，肉质鲜嫩，配菜的肥肠非常多。除了烤鱼，还有烧生蚝，烤虾，烧茄子，山楂茶，最惊讶的，居然水果也是自助免费的。太棒了，吃完辣吃了西瓜，马上爽起来！\n",
      "    最后，对于这次的霸王餐体验，真的非常棒，再次感谢大众点评和商家的活动。希望大众点评和商家都越做越好哦！\"\n",
      "\"思源冰品位于河北区胜利路140号底商，交通便利。很远就可以看到霓虹灯闪烁着的“思源冰品”。\n",
      "店面很宽敞，布置的小清新，有很多多肉小植物。店员特热情，帮我们介绍冰品的种类和口感。上餐速度也是很快的。下面重点说说冰品。\n",
      "芒果绵绵冰：绵绵冰松软细腻，上面铺满了新鲜的芒果，个人感觉芒果是夏季里和冰品最配的水果。😀\n",
      "巧克力绵绵冰:上面撒了腰果和杏仁，绵绵冰里面搅拌了一些奥利奥饼干，口感微苦，夏天里吃些苦的东西还是对身体有益处的。\n",
      "蓝莓雪球：微甜，3个球，8元，量大😅\n",
      "思源冰品的品种真多，只是他家的量太大了，吃不了了，只能下次来再品尝了。\"\n",
      "\"餐厅地处市中心繁华地段，交通便利，坐地铁三阳广场站下，10号出口直奔云蝠6楼即到。\n",
      "餐厅装潢温馨而素雅，突出了这家素质餐厅“愫拈花”的主题，就餐区域分 2块，隆重推荐里面的大间，那叫一个高大上啊，采光通透，坐在窗边可以远眺美景，无锡市中心的夜景一览眼底。\n",
      "当然环境也要配上菜品，若要是第一次来吃这家素食餐厅的菜品，你会被那些色香味俱全的食物折服，因为她做的太像我们平常所熟知的荤菜了，鲍鱼？虾仁？红烧肉…？样样都有，使我不免在吃的时候，老是想着她到底是啥素材做的呢。建议老板可以办个菜品原材料竞猜游戏啦。😀最后必须要推荐各位亲们，一定要品尝该店的鲜榨果汁，真是很新鲜，纯水果现场加工，说明老板是用心在经营这家店。\n",
      "这个价位的团购，真是超值。希望店家团购不要停！\"\n",
      "\"周五中午陪老人来这家店品尝潮汕牛肉火锅。\n",
      "餐厅就在万柳地区的北大学生公寓临街门面，距三环苏州桥、国家行政学院、海淀区政府及海淀分局很近。交通便利，导航很容易找到。餐厅东侧有停车场，停车方便。\n",
      "因在北大学生公寓旁，而且附近是层次比较高的住宅区，几家不同风味的餐厅相邻而开，看来生意都不错。\n",
      "五人点了六盘牛肉、一份鲜牛肉丸、一份冻豆腐、一份蔬菜拼盘、一份面，上的经典牛肉丸锅底，小料是自助的，大家按照喜好分别自取了沙茶酱、麻酱调料，开涮😀\n",
      "按照牛肉不同部位涮肉的时间（牛肉部位称法、涮的时间有详细说明），品尝经典的潮汕牛肉火锅，一个小时，全部清盘，分量刚好。\n",
      "总的来说，这家店的牛肉还是比较新鲜、嫩滑的，很有滋味，八十多岁的老人吃起来津津有味👌。店内服务也不错👍。目前好像是开业优惠，五个人消费370多元，价格很亲民😎\n",
      "给这家店一个赞！\"\n",
      "\"住在火车站附近，或者在火车站换车的一定要来这家吃，强烈推荐！好吃不贵，卫生安全！😀我和老公是端午节小假期去的，只玩了2天，却在他家吃了两次，可见真的不错哦！ 1卫生：吃海鲜必须吃新鲜的，这家虽然店面不大，但真的很干净，很卫生。我们第一次去都已经晚上10点了，老板自己家人也都在吃，所以就放心的进店了。我和老公因为肠胃不好，在云南食物中毒过，很在意卫生的问题，包里必备整肠生，不过这里没用到，大家可以放心大胆的吃吧；2味道：信大众点评的肯定没问题，其实我都是看大家点啥就吃啥。这几张图是第一次晚上10点吃的，第二次的海参、鲍鱼、扇贝没有拍照。个人觉得鲍鱼、海参必须点，新鲜味美，价格还实惠，比北京便宜多了，老公逗我，“你要是在这，天天请你吃海参鲍鱼。”扇贝我也很喜欢，这家清理的比较干净，没什么泥沙。青岛的扇贝不是北京那种大的粉丝蒸扇贝，这里都是要小一号，红色壳子的，但肉质很紧致鲜嫩，必须要点哦！其次是鲅鱼饺子，喜欢饺子的朋友们也不要错过，我这个东北姑娘吃后可是念念不忘呢，哈哈。另外，还要说说生蚝，鲜嫩是绝对没的说，不是烤的那种干巴巴的，有图有真相！但我个人有点吃不惯，还好老公超级喜欢，基本半份都让他美滋滋的吃掉啦。鱿鱼我就不太推荐了，个人口淡，喜欢软一些的那种； 3服务：这个不得不点赞哦👍🏻，老板是位阿姨，服务热情，而且特别爽快。鱿鱼觉得有点咸，我们刚提一嘴，阿姨立刻叫服务员重新给我们炒了一下，还不好意思的和我们解释他们这边人普遍口重。我们小两口想多吃几样，又担心吃不完浪费，阿姨马上同意我们点半份的生蚝和扇贝（经验证别家可不会同意这样点餐的）。临走时阿姨还给我们送了两瓶可乐，第二次去认出我们了，又贴心的换了王老吉和果粒橙。这么好的服务哪里找啊，吃的太开心了。谢谢阿姨，谢谢祥和活海鲜为我们这次短暂的旅行留下的极好印象！如果有机会再来青岛，我们还会再见的😊\"\n",
      "\"浮生偷得半日闲，与闺蜜早茶走起😄😄😄，本想去三厘馆，结果找不到了😂😂😂，丢人啊，结果问了周围的群众，才知道现在改叫醉月楼了，来都来了，就吃吧，榴莲酥，叉烧酥，冰火菠萝油，香芒冻布丁，虾饺皇，南瓜球，蒸凤爪，金钱肚，蟹籽烧卖皇，悠闲悠闲好不惬意，吃吃聊聊好不得意，人生好幸胡😀😀😀\n",
      "        我记得无锡人前有家老字号酒楼，叫醉月楼，最早在火车站附近，老的王兴记的楼上，不知道这家醉月楼和我小时候吃的那家有没有关系？在上海也见过这个名字的酒楼，印象实在是太深刻了！\"\n",
      "\"第一次抽中霸王餐😄^_^，意外加惊喜~感谢大众点评！出差回来后没来得及提前一天预约，一早打电话至店家，本想碰碰运气的，没想到店家非常热情说随时可以来😀，带上娃儿，带上娃儿奶奶，粗发……\n",
      " 【地址】就在慈云寺桥东南角，远洋天地D座，交通方便很好找，今天双号限行，坐公交车也很方便呢🎅\n",
      "【服务】餐厅服务人员很多，年轻，热情……看到带小朋友来，送了一份萌萌的兔子饭和芒果布丁👯👍💟还送了两杯浓浓的奶茶👍💖煲仔饭帮忙绊好盛到碗里，娃儿在刚上完第一道菜时就说，给个赞👍娃儿很喜欢鱼和汤，一边吃一边说，得给一百个赞👍\n",
      "【菜品】菜品很丰盛，每上一道菜，服务员都介绍食材，有机蔬菜，土鸡蛋，怡宝矿泉水炖汤……食材好，无添加，放心吃，越吃越觉得香\n",
      "【味道】\n",
      "☺清蒸鲈鱼~~味道很好，孩子吃了好多啊^_^\n",
      "😊排骨山药炖汤~~话说太实惠了，一盅汤里有一半多的排骨，数了下足足有八块😋店家真实在啊……\n",
      "😀抹茶流沙包~~一打开窗，浓浓的流沙，很好吃\n",
      "😁煲仔饭~~我滴最爱(^_-)一打开盖子，香味扑鼻，腊肠，腊肉超多……吃完饭吃锅巴，锅巴焦而不糊，很棒！\n",
      "😋蚝油生菜和椒香土鸡蛋，清爽，不油腻，很好吃!\n",
      "饭后，喝上浓浓的一杯奶茶~舒服，惬意👏👏\"\n",
      "\"前几天过圣诞节的时候，家里来了几个朋友来北京找我玩，因为之前也来过大宅门几次，觉得整体感觉都不错，这次就又选择了这里，（也想让自己有面子一点😊），感觉还是一如既往的好，交通便利，地理位置好，出去就有地铁白石桥南站，根本不用担心出行问题，菜品呢，我朋友说都挺好的，特别是这个牛肉，觉得挺有讲究的，还要点火，太棒了😁口感不错，我个人比较喜爱的还是这个肉肉，肥而不腻，每次来都是必点菜，吃了一份我又打包了一份，请原谅我是个吃货😇烤鸭是现烤的，不错，服务员的服务态度挺好，服务也很到位，我能感觉到他们应该是有培训的，细致周到，比较专业，主动帮我们催菜，什么都为我们考虑，让我感觉来这里就是来对了，环境更是优雅，古香古色，回去后我朋友说，这个店叫大宅门，那那个电视剧《大宅门》是在这里拍的么👄等我下次来一定要好好问问😊整体感觉满意，听服务员说大厅搞活动，还推出了特价菜，下回来一定尝尝，😀\"\n"
     ]
    }
   ],
   "source": [
    "for comment in comments['content']:\n",
    "    if chr(0x1f600) in comment:\n",
    "        print(comment)"
   ]
  },
  {
   "cell_type": "code",
   "execution_count": 13,
   "metadata": {},
   "outputs": [
    {
     "name": "stdout",
     "output_type": "stream",
     "text": [
      "😀 😁 😂 😃 😄 😅 😆 😇 😈 😉 😊 😋 😌 😍 😎 😏 \n",
      "😐 😑 😒 😓 😔 😕 😖 😗 😘 😙 😚 😛 😜 😝 😞 😟 \n",
      "😠 😡 😢 😣 😤 😥 😦 😧 😨 😩 😪 😫 😬 😭 😮 😯 \n",
      "😰 😱 😲 😳 😴 😵 😶 😷 😸 😹 😺 😻 😼 😽 😾 😿 \n",
      "🙀 🙁 🙂 🙃 🙄 🙅 🙆 🙇 🙈 🙉 🙊 🙋 🙌 🙍 🙎 🙏 \n"
     ]
    }
   ],
   "source": [
    "#coding=utf-8\n",
    "for i in range(0x1f600,0x1f650):\n",
    "    print(chr(i),end=\" \")\n",
    "    if i%16==15:\n",
    "        print()"
   ]
  },
  {
   "cell_type": "code",
   "execution_count": 15,
   "metadata": {},
   "outputs": [],
   "source": [
    "string = '那，接下来我开始点评咯。😀'"
   ]
  },
  {
   "cell_type": "code",
   "execution_count": 20,
   "metadata": {},
   "outputs": [],
   "source": [
    "import jieba"
   ]
  },
  {
   "cell_type": "code",
   "execution_count": 23,
   "metadata": {},
   "outputs": [
    {
     "name": "stderr",
     "output_type": "stream",
     "text": [
      "Building prefix dict from the default dictionary ...\n",
      "Loading model from cache C:\\Users\\RYANWU~1\\AppData\\Local\\Temp\\jieba.cache\n",
      "Loading model cost 0.845 seconds.\n",
      "Prefix dict has been built succesfully.\n"
     ]
    },
    {
     "data": {
      "text/plain": [
       "'那 ， 接下来 我 开始 点评 咯 。 😀'"
      ]
     },
     "execution_count": 23,
     "metadata": {},
     "output_type": "execute_result"
    }
   ],
   "source": [
    "' '.join(jieba.cut(string))"
   ]
  },
  {
   "cell_type": "markdown",
   "metadata": {},
   "source": [
    "### 以上说明jieba不会把表情符号拆分开，so, 可以放心用"
   ]
  },
  {
   "cell_type": "code",
   "execution_count": 38,
   "metadata": {
    "scrolled": false
   },
   "outputs": [],
   "source": [
    "from hanziconv import HanziConv"
   ]
  },
  {
   "cell_type": "code",
   "execution_count": 39,
   "metadata": {},
   "outputs": [
    {
     "name": "stdout",
     "output_type": "stream",
     "text": [
      "繁简转换器\n"
     ]
    }
   ],
   "source": [
    "print(HanziConv.toSimplified('繁簡轉換器'))"
   ]
  },
  {
   "cell_type": "code",
   "execution_count": null,
   "metadata": {},
   "outputs": [],
   "source": []
  }
 ],
 "metadata": {
  "kernelspec": {
   "display_name": "ai",
   "language": "python",
   "name": "ai"
  },
  "language_info": {
   "codemirror_mode": {
    "name": "ipython",
    "version": 3
   },
   "file_extension": ".py",
   "mimetype": "text/x-python",
   "name": "python",
   "nbconvert_exporter": "python",
   "pygments_lexer": "ipython3",
   "version": "3.6.8"
  },
  "toc": {
   "base_numbering": 1,
   "nav_menu": {},
   "number_sections": true,
   "sideBar": true,
   "skip_h1_title": false,
   "title_cell": "Table of Contents",
   "title_sidebar": "Contents",
   "toc_cell": false,
   "toc_position": {},
   "toc_section_display": true,
   "toc_window_display": false
  }
 },
 "nbformat": 4,
 "nbformat_minor": 2
}
